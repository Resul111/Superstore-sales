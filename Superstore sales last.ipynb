{
 "cells": [
  {
   "cell_type": "markdown",
   "id": "cf470a1a-76fe-4f3f-8a4c-49d88472f765",
   "metadata": {},
   "source": [
    "# Superstore Sales Data Analysis\n",
    "\n",
    "## 📌 Table of Contents\n",
    "1. Introduction  \n",
    "2. Dataset Overview  \n",
    "3. Data Cleaning  \n",
    "4. Sales and Profit Analysis  \n",
    "5. Regional Performance  \n",
    "6. Time-based Trends  \n",
    "7. Top Products and Discounts  \n",
    "8. Delivery Analysis  "
   ]
  },
  {
   "cell_type": "markdown",
   "id": "9883666e-42fb-4744-bc3f-ee9e1520076a",
   "metadata": {},
   "source": [
    "## 1. Introduction\n",
    "\n",
    "In this notebook, we analyze the Superstore sales dataset to identify key trends in sales, profit, product performance, and delivery times. This analysis can help the business improve strategic decision-making.\n"
   ]
  },
  {
   "cell_type": "markdown",
   "id": "17100d8a-3206-4da5-b871-fa81b9b2cdb3",
   "metadata": {},
   "source": [
    "## 2. Dataset Overview\n",
    "\n",
    "The dataset contains historical sales data including order dates, shipping, product categories, customer locations, sales amounts, profits, discounts, and more.\n"
   ]
  },
  {
   "cell_type": "code",
   "execution_count": 1,
   "id": "503a2a63-d90a-41cd-bd5c-d50d4faef23f",
   "metadata": {},
   "outputs": [],
   "source": [
    "import pandas as pd\n",
    "df = pd.read_csv(\"C:/Users/User/Desktop/Yeni klasör (2)/Sample - Superstore.csv\", encoding='latin1')"
   ]
  },
  {
   "cell_type": "code",
   "execution_count": 2,
   "id": "acd13236-7047-4126-8ece-a5b40778845c",
   "metadata": {},
   "outputs": [
    {
     "name": "stdout",
     "output_type": "stream",
     "text": [
      "<bound method DataFrame.info of       Row ID        Order ID  Order Date   Ship Date       Ship Mode  \\\n",
      "0          1  CA-2016-152156   11/8/2016  11/11/2016    Second Class   \n",
      "1          2  CA-2016-152156   11/8/2016  11/11/2016    Second Class   \n",
      "2          3  CA-2016-138688   6/12/2016   6/16/2016    Second Class   \n",
      "3          4  US-2015-108966  10/11/2015  10/18/2015  Standard Class   \n",
      "4          5  US-2015-108966  10/11/2015  10/18/2015  Standard Class   \n",
      "...      ...             ...         ...         ...             ...   \n",
      "9989    9990  CA-2014-110422   1/21/2014   1/23/2014    Second Class   \n",
      "9990    9991  CA-2017-121258   2/26/2017    3/3/2017  Standard Class   \n",
      "9991    9992  CA-2017-121258   2/26/2017    3/3/2017  Standard Class   \n",
      "9992    9993  CA-2017-121258   2/26/2017    3/3/2017  Standard Class   \n",
      "9993    9994  CA-2017-119914    5/4/2017    5/9/2017    Second Class   \n",
      "\n",
      "     Customer ID     Customer Name    Segment        Country             City  \\\n",
      "0       CG-12520       Claire Gute   Consumer  United States        Henderson   \n",
      "1       CG-12520       Claire Gute   Consumer  United States        Henderson   \n",
      "2       DV-13045   Darrin Van Huff  Corporate  United States      Los Angeles   \n",
      "3       SO-20335    Sean O'Donnell   Consumer  United States  Fort Lauderdale   \n",
      "4       SO-20335    Sean O'Donnell   Consumer  United States  Fort Lauderdale   \n",
      "...          ...               ...        ...            ...              ...   \n",
      "9989    TB-21400  Tom Boeckenhauer   Consumer  United States            Miami   \n",
      "9990    DB-13060       Dave Brooks   Consumer  United States       Costa Mesa   \n",
      "9991    DB-13060       Dave Brooks   Consumer  United States       Costa Mesa   \n",
      "9992    DB-13060       Dave Brooks   Consumer  United States       Costa Mesa   \n",
      "9993    CC-12220      Chris Cortes   Consumer  United States      Westminster   \n",
      "\n",
      "      ... Postal Code  Region       Product ID         Category Sub-Category  \\\n",
      "0     ...       42420   South  FUR-BO-10001798        Furniture    Bookcases   \n",
      "1     ...       42420   South  FUR-CH-10000454        Furniture       Chairs   \n",
      "2     ...       90036    West  OFF-LA-10000240  Office Supplies       Labels   \n",
      "3     ...       33311   South  FUR-TA-10000577        Furniture       Tables   \n",
      "4     ...       33311   South  OFF-ST-10000760  Office Supplies      Storage   \n",
      "...   ...         ...     ...              ...              ...          ...   \n",
      "9989  ...       33180   South  FUR-FU-10001889        Furniture  Furnishings   \n",
      "9990  ...       92627    West  FUR-FU-10000747        Furniture  Furnishings   \n",
      "9991  ...       92627    West  TEC-PH-10003645       Technology       Phones   \n",
      "9992  ...       92627    West  OFF-PA-10004041  Office Supplies        Paper   \n",
      "9993  ...       92683    West  OFF-AP-10002684  Office Supplies   Appliances   \n",
      "\n",
      "                                           Product Name     Sales  Quantity  \\\n",
      "0                     Bush Somerset Collection Bookcase  261.9600         2   \n",
      "1     Hon Deluxe Fabric Upholstered Stacking Chairs,...  731.9400         3   \n",
      "2     Self-Adhesive Address Labels for Typewriters b...   14.6200         2   \n",
      "3         Bretford CR4500 Series Slim Rectangular Table  957.5775         5   \n",
      "4                        Eldon Fold 'N Roll Cart System   22.3680         2   \n",
      "...                                                 ...       ...       ...   \n",
      "9989                             Ultra Door Pull Handle   25.2480         3   \n",
      "9990  Tenex B1-RE Series Chair Mats for Low Pile Car...   91.9600         2   \n",
      "9991                              Aastra 57i VoIP phone  258.5760         2   \n",
      "9992  It's Hot Message Books with Stickers, 2 3/4\" x 5\"   29.6000         4   \n",
      "9993  Acco 7-Outlet Masterpiece Power Center, Wihtou...  243.1600         2   \n",
      "\n",
      "      Discount    Profit  \n",
      "0         0.00   41.9136  \n",
      "1         0.00  219.5820  \n",
      "2         0.00    6.8714  \n",
      "3         0.45 -383.0310  \n",
      "4         0.20    2.5164  \n",
      "...        ...       ...  \n",
      "9989      0.20    4.1028  \n",
      "9990      0.00   15.6332  \n",
      "9991      0.20   19.3932  \n",
      "9992      0.00   13.3200  \n",
      "9993      0.00   72.9480  \n",
      "\n",
      "[9994 rows x 21 columns]>\n"
     ]
    }
   ],
   "source": [
    "print(df.info)"
   ]
  },
  {
   "cell_type": "code",
   "execution_count": 3,
   "id": "90a52da0-ac20-4423-9c00-ddc2fc5bb481",
   "metadata": {},
   "outputs": [
    {
     "name": "stdout",
     "output_type": "stream",
     "text": [
      "Index(['Row ID', 'Order ID', 'Order Date', 'Ship Date', 'Ship Mode',\n",
      "       'Customer ID', 'Customer Name', 'Segment', 'Country', 'City', 'State',\n",
      "       'Postal Code', 'Region', 'Product ID', 'Category', 'Sub-Category',\n",
      "       'Product Name', 'Sales', 'Quantity', 'Discount', 'Profit'],\n",
      "      dtype='object')\n"
     ]
    }
   ],
   "source": [
    "print(df.columns)"
   ]
  },
  {
   "cell_type": "code",
   "execution_count": 4,
   "id": "44c1f8f8-e690-43cc-a01e-e818eb93a6a9",
   "metadata": {},
   "outputs": [
    {
     "name": "stdout",
     "output_type": "stream",
     "text": [
      "Row ID           0\n",
      "Order ID         0\n",
      "Order Date       0\n",
      "Ship Date        0\n",
      "Ship Mode        0\n",
      "Customer ID      0\n",
      "Customer Name    0\n",
      "Segment          0\n",
      "Country          0\n",
      "City             0\n",
      "State            0\n",
      "Postal Code      0\n",
      "Region           0\n",
      "Product ID       0\n",
      "Category         0\n",
      "Sub-Category     0\n",
      "Product Name     0\n",
      "Sales            0\n",
      "Quantity         0\n",
      "Discount         0\n",
      "Profit           0\n",
      "dtype: int64\n"
     ]
    }
   ],
   "source": [
    "print(df.isna().sum())  #stünlardakı null deyerlerin sayı"
   ]
  },
  {
   "cell_type": "code",
   "execution_count": 5,
   "id": "64c22835-c7ef-4a07-a63d-d94e8139e5b2",
   "metadata": {
    "scrolled": true
   },
   "outputs": [
    {
     "name": "stdout",
     "output_type": "stream",
     "text": [
      "      Order Date   Ship Date       Ship Mode             City       State  \\\n",
      "0      11/8/2016  11/11/2016    Second Class        Henderson    Kentucky   \n",
      "1      11/8/2016  11/11/2016    Second Class        Henderson    Kentucky   \n",
      "2      6/12/2016   6/16/2016    Second Class      Los Angeles  California   \n",
      "3     10/11/2015  10/18/2015  Standard Class  Fort Lauderdale     Florida   \n",
      "4     10/11/2015  10/18/2015  Standard Class  Fort Lauderdale     Florida   \n",
      "...          ...         ...             ...              ...         ...   \n",
      "9989   1/21/2014   1/23/2014    Second Class            Miami     Florida   \n",
      "9990   2/26/2017    3/3/2017  Standard Class       Costa Mesa  California   \n",
      "9991   2/26/2017    3/3/2017  Standard Class       Costa Mesa  California   \n",
      "9992   2/26/2017    3/3/2017  Standard Class       Costa Mesa  California   \n",
      "9993    5/4/2017    5/9/2017    Second Class      Westminster  California   \n",
      "\n",
      "     Region         Category Sub-Category  \\\n",
      "0     South        Furniture    Bookcases   \n",
      "1     South        Furniture       Chairs   \n",
      "2      West  Office Supplies       Labels   \n",
      "3     South        Furniture       Tables   \n",
      "4     South  Office Supplies      Storage   \n",
      "...     ...              ...          ...   \n",
      "9989  South        Furniture  Furnishings   \n",
      "9990   West        Furniture  Furnishings   \n",
      "9991   West       Technology       Phones   \n",
      "9992   West  Office Supplies        Paper   \n",
      "9993   West  Office Supplies   Appliances   \n",
      "\n",
      "                                           Product Name     Sales  Quantity  \\\n",
      "0                     Bush Somerset Collection Bookcase  261.9600         2   \n",
      "1     Hon Deluxe Fabric Upholstered Stacking Chairs,...  731.9400         3   \n",
      "2     Self-Adhesive Address Labels for Typewriters b...   14.6200         2   \n",
      "3         Bretford CR4500 Series Slim Rectangular Table  957.5775         5   \n",
      "4                        Eldon Fold 'N Roll Cart System   22.3680         2   \n",
      "...                                                 ...       ...       ...   \n",
      "9989                             Ultra Door Pull Handle   25.2480         3   \n",
      "9990  Tenex B1-RE Series Chair Mats for Low Pile Car...   91.9600         2   \n",
      "9991                              Aastra 57i VoIP phone  258.5760         2   \n",
      "9992  It's Hot Message Books with Stickers, 2 3/4\" x 5\"   29.6000         4   \n",
      "9993  Acco 7-Outlet Masterpiece Power Center, Wihtou...  243.1600         2   \n",
      "\n",
      "      Discount    Profit  \n",
      "0         0.00   41.9136  \n",
      "1         0.00  219.5820  \n",
      "2         0.00    6.8714  \n",
      "3         0.45 -383.0310  \n",
      "4         0.20    2.5164  \n",
      "...        ...       ...  \n",
      "9989      0.20    4.1028  \n",
      "9990      0.00   15.6332  \n",
      "9991      0.20   19.3932  \n",
      "9992      0.00   13.3200  \n",
      "9993      0.00   72.9480  \n",
      "\n",
      "[9994 rows x 13 columns]\n"
     ]
    }
   ],
   "source": [
    "#Lazım olmayan xanaları silək\n",
    "df=df.drop(columns=['Row ID','Order ID','Customer ID','Customer Name','Segment','Postal Code','Product ID','Country'])\n",
    "print(df)"
   ]
  },
  {
   "cell_type": "code",
   "execution_count": 6,
   "id": "2b674ea0-0a4f-4f8a-b300-fbaca1a01e05",
   "metadata": {},
   "outputs": [
    {
     "name": "stdout",
     "output_type": "stream",
     "text": [
      "Ümumi satış: $2,297,200.86\n"
     ]
    }
   ],
   "source": [
    "#marketin satışları\n",
    "sales_total=df['Sales'].sum()\n",
    "print(f\"Ümumi satış: ${sales_total:,.2f}\")"
   ]
  },
  {
   "cell_type": "code",
   "execution_count": 7,
   "id": "ebc3736b-f447-4e4e-ad4d-a522b65eb27c",
   "metadata": {},
   "outputs": [
    {
     "name": "stdout",
     "output_type": "stream",
     "text": [
      "Ortalama satış: $229.86\n"
     ]
    }
   ],
   "source": [
    "sales_avg=df['Sales'].mean()\n",
    "print(f\"Ortalama satış: ${sales_avg:,.2f}\")"
   ]
  },
  {
   "cell_type": "code",
   "execution_count": 8,
   "id": "9a85dbab-d5bd-4ac5-ae92-83c412ca4c76",
   "metadata": {},
   "outputs": [
    {
     "name": "stdout",
     "output_type": "stream",
     "text": [
      "Maksimum satış: $22,638.48\n"
     ]
    }
   ],
   "source": [
    "max_sales=df['Sales'].max()\n",
    "print(f\"Maksimum satış: ${max_sales:,.2f}\")"
   ]
  },
  {
   "cell_type": "code",
   "execution_count": 9,
   "id": "a8fb2d14-fa56-4719-9774-ce21d1c1075d",
   "metadata": {},
   "outputs": [
    {
     "name": "stdout",
     "output_type": "stream",
     "text": [
      "Minimum satış: $0.44\n"
     ]
    }
   ],
   "source": [
    "min_sales=df['Sales'].min()\n",
    "print(f\"Minimum satış: ${min_sales:,.2f}\")"
   ]
  },
  {
   "cell_type": "code",
   "execution_count": 10,
   "id": "7a6182ce-80f4-470a-9178-1a63867df40c",
   "metadata": {},
   "outputs": [
    {
     "name": "stdout",
     "output_type": "stream",
     "text": [
      "Ümumi mənfəət: $286,397.02\n"
     ]
    }
   ],
   "source": [
    "profit_total=df['Profit'].sum()\n",
    "print(f\"Ümumi mənfəət: ${profit_total:,.2f}\")"
   ]
  },
  {
   "cell_type": "code",
   "execution_count": 11,
   "id": "c0849ba2-40ca-4a73-a3c9-c7841992c554",
   "metadata": {},
   "outputs": [
    {
     "name": "stdout",
     "output_type": "stream",
     "text": [
      "Ortalama mənfəət: $28.66\n"
     ]
    }
   ],
   "source": [
    "profit_avg=df['Profit'].mean()\n",
    "print(f\"Ortalama mənfəət: ${profit_avg:,.2f}\")"
   ]
  },
  {
   "cell_type": "code",
   "execution_count": 12,
   "id": "e57f03e6-1bd8-4d7f-8e4d-6077fab84006",
   "metadata": {},
   "outputs": [
    {
     "name": "stdout",
     "output_type": "stream",
     "text": [
      "Maksimum mənfəət: $8,399.98\n"
     ]
    }
   ],
   "source": [
    "max_Profit=df['Profit'].max()\n",
    "print(f\"Maksimum mənfəət: ${max_Profit:,.2f}\")"
   ]
  },
  {
   "cell_type": "code",
   "execution_count": 13,
   "id": "12eed6b0-3581-480e-a280-158b37fc3df5",
   "metadata": {},
   "outputs": [
    {
     "name": "stdout",
     "output_type": "stream",
     "text": [
      "Minimum mənfəət: $-6,599.98\n"
     ]
    }
   ],
   "source": [
    "min_profit=df['Profit'].min()\n",
    "print(f\"Minimum mənfəət: ${min_profit:,.2f}\")"
   ]
  },
  {
   "cell_type": "code",
   "execution_count": 14,
   "id": "50097117-1367-4459-a542-896609518696",
   "metadata": {},
   "outputs": [
    {
     "name": "stdout",
     "output_type": "stream",
     "text": [
      "Furniture kateqoriyası üzrə ümumi satışlar: $741,999.80\n",
      "Office Supplies kateqoriyası üzrə ümumi satışlar: $719,047.03\n",
      "Technology kateqoriyası üzrə ümumi satışlar: $836,154.03\n"
     ]
    }
   ],
   "source": [
    "\n",
    "#kateqoriyalara görə ümumi satış,mənfəət və miqdarları\n",
    "total_sales_by_category=df.groupby('Category')['Sales'].sum()\n",
    "for category, sales in total_sales_by_category.items():\n",
    "    print(f\"{category} kateqoriyası üzrə ümumi satışlar: ${sales:,.2f}\")\n"
   ]
  },
  {
   "cell_type": "code",
   "execution_count": 15,
   "id": "1f8a0676-38c4-4d48-90ad-13df40c44ea8",
   "metadata": {},
   "outputs": [
    {
     "name": "stdout",
     "output_type": "stream",
     "text": [
      "Furniture kateqoriyası üzrə ümumi mənfəət: $18,451.27\n",
      "Office Supplies kateqoriyası üzrə ümumi mənfəət: $122,490.80\n",
      "Technology kateqoriyası üzrə ümumi mənfəət: $145,454.95\n"
     ]
    }
   ],
   "source": [
    "total_profit_by_category=df.groupby('Category')['Profit'].sum()\n",
    "for category, sales in total_profit_by_category.items():\n",
    "    print(f\"{category} kateqoriyası üzrə ümumi mənfəət: ${sales:,.2f}\")\n"
   ]
  },
  {
   "cell_type": "code",
   "execution_count": 16,
   "id": "3f710b27-30b9-4897-8c29-24f0422494d0",
   "metadata": {},
   "outputs": [
    {
     "name": "stdout",
     "output_type": "stream",
     "text": [
      "Furniture kateqoriyası üzrə ümumi satış miqadarı: 8028 ədəd\n",
      "Office Supplies kateqoriyası üzrə ümumi satış miqadarı: 22906 ədəd\n",
      "Technology kateqoriyası üzrə ümumi satış miqadarı: 6939 ədəd\n"
     ]
    }
   ],
   "source": [
    "sales_quantity_by_category=df.groupby('Category')['Quantity'].sum()\n",
    "for category, sales in sales_quantity_by_category.items():\n",
    "    print(f\"{category} kateqoriyası üzrə ümumi satış miqadarı: {sales} ədəd\")\n",
    "\n"
   ]
  },
  {
   "cell_type": "code",
   "execution_count": 17,
   "id": "9751b38a-34d8-4394-bef3-5fab629b5a9c",
   "metadata": {},
   "outputs": [
    {
     "name": "stdout",
     "output_type": "stream",
     "text": [
      "Central regionunda ümumi satış: $501,239.89\n",
      "East regionunda ümumi satış: $678,781.24\n",
      "South regionunda ümumi satış: $391,721.91\n",
      "West regionunda ümumi satış: $725,457.82\n"
     ]
    }
   ],
   "source": [
    "#Regionlar üzrə maksimum və orta satışlar və gəlirlər\n",
    "total_sales_by_region=df.groupby('Region')['Sales'].sum()\n",
    "for Region, sales in total_sales_by_region.items():\n",
    "    print(f\"{Region} regionunda ümumi satış: ${sales:,.2f}\")"
   ]
  },
  {
   "cell_type": "code",
   "execution_count": 18,
   "id": "20a98889-3b0c-471b-930d-6583f646a17f",
   "metadata": {},
   "outputs": [
    {
     "name": "stdout",
     "output_type": "stream",
     "text": [
      "Central regionunda ümumi gəlir: $39,706.36\n",
      "East regionunda ümumi gəlir: $91,522.78\n",
      "South regionunda ümumi gəlir: $46,749.43\n",
      "West regionunda ümumi gəlir: $108,418.45\n"
     ]
    }
   ],
   "source": [
    "total_profit_by_region=df.groupby('Region')['Profit'].sum()\n",
    "for Region, profit in total_profit_by_region.items():\n",
    "    print(f\"{Region} regionunda ümumi gəlir: ${profit:,.2f}\")"
   ]
  },
  {
   "cell_type": "code",
   "execution_count": 19,
   "id": "111cbabc-547f-4c31-b8af-b212689f3ce6",
   "metadata": {},
   "outputs": [
    {
     "name": "stdout",
     "output_type": "stream",
     "text": [
      "Central regionunda ortalama satış: $215.77\n",
      "East regionunda ortalama satış: $238.34\n",
      "South regionunda ortalama satış: $241.80\n",
      "West regionunda ortalama satış: $226.49\n"
     ]
    }
   ],
   "source": [
    "avg_profit_by_region=df.groupby('Region')['Sales'].mean()\n",
    "for Region, sales in avg_profit_by_region.items():\n",
    "    print(f\"{Region} regionunda ortalama satış: ${sales:,.2f}\")"
   ]
  },
  {
   "cell_type": "code",
   "execution_count": 20,
   "id": "f3063130-6702-4b33-b601-f6291814b260",
   "metadata": {},
   "outputs": [
    {
     "name": "stdout",
     "output_type": "stream",
     "text": [
      "Central regionunda ortalama gəlir: $17.09\n",
      "East regionunda ortalama gəlir: $32.14\n",
      "South regionunda ortalama gəlir: $28.86\n",
      "West regionunda ortalama gəlir: $33.85\n"
     ]
    }
   ],
   "source": [
    "avg_profit_by_region=df.groupby('Region')['Profit'].mean()\n",
    "for Region, profit in avg_profit_by_region.items():\n",
    "    print(f\"{Region} regionunda ortalama gəlir: ${profit:,.2f}\")\n"
   ]
  },
  {
   "cell_type": "code",
   "execution_count": 21,
   "id": "f47c3df2-0c98-495d-a806-62d04b035bf2",
   "metadata": {},
   "outputs": [
    {
     "name": "stdout",
     "output_type": "stream",
     "text": [
      "                   State        Sales      Profit\n",
      "0             California  457687.6315  76381.3871\n",
      "1               New York  310876.2710  74038.5486\n",
      "2                  Texas  170188.0458 -25729.3563\n",
      "3             Washington  138641.2700  33402.6517\n",
      "4           Pennsylvania  116511.9140 -15559.9603\n",
      "5                Florida   89473.7080  -3399.3017\n",
      "6               Illinois   80166.1010 -12607.8870\n",
      "7                   Ohio   78258.1360 -16971.3766\n",
      "8               Michigan   76269.6140  24463.1876\n",
      "9               Virginia   70636.7200  18597.9504\n",
      "10        North Carolina   55603.1640  -7490.9122\n",
      "11               Indiana   53555.3600  18382.9363\n",
      "12               Georgia   49095.8400  16250.0433\n",
      "13              Kentucky   36591.7500  11199.6966\n",
      "14            New Jersey   35764.3120   9772.9138\n",
      "15               Arizona   35282.0010  -3427.9246\n",
      "16             Wisconsin   32114.6100   8401.8004\n",
      "17              Colorado   32108.1180  -6527.8579\n",
      "18             Tennessee   30661.8730  -5341.6936\n",
      "19             Minnesota   29863.1500  10823.1874\n",
      "20         Massachusetts   28634.4340   6785.5016\n",
      "21              Delaware   27451.0690   9977.3748\n",
      "22              Maryland   23705.5230   7031.1788\n",
      "23          Rhode Island   22627.9560   7285.6293\n",
      "24              Missouri   22205.1500   6436.2105\n",
      "25              Oklahoma   19683.3900   4853.9560\n",
      "26               Alabama   19510.6400   5786.8253\n",
      "27                Oregon   17431.1500  -1190.4705\n",
      "28                Nevada   16729.1020   3316.7659\n",
      "29           Connecticut   13384.3570   3511.4918\n",
      "30              Arkansas   11678.1300   4008.6871\n",
      "31                  Utah   11220.0560   2546.5335\n",
      "32           Mississippi   10771.3400   3172.9762\n",
      "33             Louisiana    9217.0300   2196.1023\n",
      "34               Vermont    8929.3700   2244.9783\n",
      "35        South Carolina    8481.7100   1769.0566\n",
      "36              Nebraska    7464.9300   2037.0942\n",
      "37         New Hampshire    7292.5240   1706.5028\n",
      "38               Montana    5589.3520   1833.3285\n",
      "39            New Mexico    4783.5220   1157.1161\n",
      "40                  Iowa    4579.7600   1183.8119\n",
      "41                 Idaho    4382.4860    826.7231\n",
      "42                Kansas    2914.3100    836.4435\n",
      "43  District of Columbia    2865.0200   1059.5893\n",
      "44               Wyoming    1603.1360    100.1960\n",
      "45          South Dakota    1315.5600    394.8283\n",
      "46                 Maine    1270.5300    454.4862\n",
      "47         West Virginia    1209.8240    185.9216\n",
      "48          North Dakota     919.9100    230.1497\n"
     ]
    }
   ],
   "source": [
    "#Ştatlar üzrə ümumi satış və gəlirələr\n",
    "total_sales_by_state=df.groupby('State')[['Sales','Profit']].sum().sort_values(by='Sales',ascending=False).reset_index()\n",
    "print(total_sales_by_state)"
   ]
  },
  {
   "cell_type": "code",
   "execution_count": 22,
   "id": "366404ef-b411-42de-ac10-c0d20cf1ba04",
   "metadata": {},
   "outputs": [
    {
     "name": "stdout",
     "output_type": "stream",
     "text": [
      "              City       Sales      Profit\n",
      "0    New York City  256368.161  62036.9837\n",
      "1      Los Angeles  175851.341  30440.7579\n",
      "2          Seattle  119540.742  29156.0967\n",
      "3    San Francisco  112669.092  17507.3854\n",
      "4     Philadelphia  109077.013 -13837.7674\n",
      "..             ...         ...         ...\n",
      "526   Ormond Beach       2.808     -1.9656\n",
      "527      Pensacola       2.214     -1.4760\n",
      "528        Jupiter       2.064      0.1548\n",
      "529         Elyria       1.824     -1.3984\n",
      "530        Abilene       1.392     -3.7584\n",
      "\n",
      "[531 rows x 3 columns]\n"
     ]
    }
   ],
   "source": [
    "#Şəhərlər üzrə ümumi satış və gəlirlər\n",
    "total_sales_by_city=df.groupby('City')[['Sales','Profit']].sum().sort_values(by='Sales',ascending=False).reset_index()\n",
    "print(total_sales_by_city)"
   ]
  },
  {
   "cell_type": "code",
   "execution_count": 23,
   "id": "267395d0-c3af-4f1d-98ae-0d1987133658",
   "metadata": {},
   "outputs": [
    {
     "name": "stdout",
     "output_type": "stream",
     "text": [
      "datetime64[ns]\n"
     ]
    }
   ],
   "source": [
    "#Sifariş ve çatdırılma stünlarının datetime formatına çevrilmesi\n",
    "df['order_date'] = pd.to_datetime(df['Order Date'], format='%m/%d/%Y')\n",
    "df['ship_date'] = pd.to_datetime(df['Ship Date'], format='%m/%d/%Y')\n",
    "print(df['order_date'].dtype)\n"
   ]
  },
  {
   "cell_type": "code",
   "execution_count": 24,
   "id": "7cd5e629-b3f4-499f-b756-2822c69278d9",
   "metadata": {},
   "outputs": [
    {
     "name": "stdout",
     "output_type": "stream",
     "text": [
      "0       2016\n",
      "1       2016\n",
      "2       2016\n",
      "3       2015\n",
      "4       2015\n",
      "        ... \n",
      "9989    2014\n",
      "9990    2017\n",
      "9991    2017\n",
      "9992    2017\n",
      "9993    2017\n",
      "Name: order_year, Length: 9994, dtype: int32\n"
     ]
    }
   ],
   "source": [
    "#Tarixin il,ay və gün hissələrinin çıxarılması\n",
    "df['order_year']=df['order_date'].dt.year\n",
    "print(df['order_year'])"
   ]
  },
  {
   "cell_type": "code",
   "execution_count": 25,
   "id": "79713c52-f046-4318-93e1-629adc4aacea",
   "metadata": {},
   "outputs": [
    {
     "name": "stdout",
     "output_type": "stream",
     "text": [
      "0       11\n",
      "1       11\n",
      "2        6\n",
      "3       10\n",
      "4       10\n",
      "        ..\n",
      "9989     1\n",
      "9990     2\n",
      "9991     2\n",
      "9992     2\n",
      "9993     5\n",
      "Name: order_month, Length: 9994, dtype: int32\n"
     ]
    }
   ],
   "source": [
    "df['order_month']=df['order_date'].dt.month\n",
    "print(df['order_month'])"
   ]
  },
  {
   "cell_type": "code",
   "execution_count": 26,
   "id": "ae1ed4df-852a-4752-b04e-d49c0bbed07f",
   "metadata": {},
   "outputs": [
    {
     "name": "stdout",
     "output_type": "stream",
     "text": [
      "0        8\n",
      "1        8\n",
      "2       12\n",
      "3       11\n",
      "4       11\n",
      "        ..\n",
      "9989    21\n",
      "9990    26\n",
      "9991    26\n",
      "9992    26\n",
      "9993     4\n",
      "Name: order_day, Length: 9994, dtype: int32\n"
     ]
    }
   ],
   "source": [
    "df['order_day']=df['order_date'].dt.day\n",
    "print(df['order_day'])\n"
   ]
  },
  {
   "cell_type": "code",
   "execution_count": 40,
   "id": "71b225ad-8adb-450d-b1b6-02236f0d9099",
   "metadata": {
    "scrolled": true
   },
   "outputs": [
    {
     "name": "stdout",
     "output_type": "stream",
     "text": [
      "   order_year        Sales      Profit\n",
      "0        2014  484247.4981  49543.9741\n",
      "1        2015  470532.5090  61618.6037\n",
      "2        2016  609205.5980  81795.1743\n",
      "3        2017  733215.2552  93439.2696\n"
     ]
    }
   ],
   "source": [
    "#İllərə və aylara görə satışlar\n",
    "illərə_görə_satış = df.groupby('order_year')[['Sales', 'Profit']].sum().reset_index()\n",
    "print(illərə_görə_satış)\n"
   ]
  },
  {
   "cell_type": "code",
   "execution_count": 42,
   "id": "5e6e36f6-a3ba-42a8-b328-c0f76fed36a3",
   "metadata": {},
   "outputs": [
    {
     "name": "stdout",
     "output_type": "stream",
     "text": [
      "    order_year  order_month        Sales      Profit\n",
      "0         2014            1   14236.8950   2450.1907\n",
      "1         2014            2    4519.8920    862.3084\n",
      "2         2014            3   55691.0090    498.7299\n",
      "3         2014            4   28295.3450   3488.8352\n",
      "4         2014            5   23648.2870   2738.7096\n",
      "5         2014            6   34595.1276   4976.5244\n",
      "6         2014            7   33946.3930   -841.4826\n",
      "7         2014            8   27909.4685   5318.1050\n",
      "8         2014            9   81777.3508   8328.0994\n",
      "9         2014           10   31453.3930   3448.2573\n",
      "10        2014           11   78628.7167   9292.1269\n",
      "11        2014           12   69545.6205   8983.5699\n",
      "12        2015            1   18174.0756  -3281.0070\n",
      "13        2015            2   11951.4110   2813.8508\n",
      "14        2015            3   38726.2520   9732.0978\n",
      "15        2015            4   34195.2085   4187.4962\n",
      "16        2015            5   30131.6865   4667.8690\n",
      "17        2015            6   24797.2920   3335.5572\n",
      "18        2015            7   28765.3250   3288.6483\n",
      "19        2015            8   36898.3322   5355.8084\n",
      "20        2015            9   64595.9180   8209.1627\n",
      "21        2015           10   31404.9235   2817.3660\n",
      "22        2015           11   75972.5635  12474.7884\n",
      "23        2015           12   74919.5212   8016.9659\n",
      "24        2016            1   18542.4910   2824.8233\n",
      "25        2016            2   22978.8150   5004.5795\n",
      "26        2016            3   51715.8750   3611.9680\n",
      "27        2016            4   38750.0390   2977.8149\n",
      "28        2016            5   56987.7280   8662.1464\n",
      "29        2016            6   40344.5340   4750.3781\n",
      "30        2016            7   39261.9630   4432.8779\n",
      "31        2016            8   31115.3743   2062.0693\n",
      "32        2016            9   73410.0249   9328.6576\n",
      "33        2016           10   59687.7450  16243.1425\n",
      "34        2016           11   79411.9658   4011.4075\n",
      "35        2016           12   96999.0430  17885.3093\n",
      "36        2017            1   43971.3740   7140.4391\n",
      "37        2017            2   20301.1334   1613.8720\n",
      "38        2017            3   58872.3528  14751.8915\n",
      "39        2017            4   36521.5361    933.2900\n",
      "40        2017            5   44261.1102   6342.5828\n",
      "41        2017            6   52981.7257   8223.3357\n",
      "42        2017            7   45264.4160   6952.6212\n",
      "43        2017            8   63120.8880   9040.9557\n",
      "44        2017            9   87866.6520  10991.5556\n",
      "45        2017           10   77776.9232   9275.2755\n",
      "46        2017           11  118447.8250   9690.1037\n",
      "47        2017           12   83829.3188   8483.3468\n"
     ]
    }
   ],
   "source": [
    "aylara_görə_satış=df.groupby(['order_year', 'order_month'])[['Sales','Profit']].sum().reset_index()\n",
    "print(aylara_görə_satış)\n"
   ]
  },
  {
   "cell_type": "code",
   "execution_count": 29,
   "id": "7348cdb0-e1cf-4a84-b029-6da379a171ba",
   "metadata": {},
   "outputs": [
    {
     "name": "stdout",
     "output_type": "stream",
     "text": [
      "order_year         2016         2017\n",
      "order_month                         \n",
      "1            18542.4910   43971.3740\n",
      "2            22978.8150   20301.1334\n",
      "3            51715.8750   58872.3528\n",
      "4            38750.0390   36521.5361\n",
      "5            56987.7280   44261.1102\n",
      "6            40344.5340   52981.7257\n",
      "7            39261.9630   45264.4160\n",
      "8            31115.3743   63120.8880\n",
      "9            73410.0249   87866.6520\n",
      "10           59687.7450   77776.9232\n",
      "11           79411.9658  118447.8250\n",
      "12           96999.0430   83829.3188\n"
     ]
    }
   ],
   "source": [
    "\n",
    "#İki tarix arasında satışların müqayisəsi\n",
    "iki_il = df[df['order_year'].isin([2016, 2017])]\n",
    "ayliq_muqayise = iki_il.groupby(['order_year', 'order_month'])['Sales'].sum().unstack(level=0)\n",
    "print(ayliq_muqayise)"
   ]
  },
  {
   "cell_type": "code",
   "execution_count": 30,
   "id": "012c5080-1666-4ef1-911e-91a92b9d72a0",
   "metadata": {},
   "outputs": [
    {
     "name": "stdout",
     "output_type": "stream",
     "text": [
      "0      3 days\n",
      "1      3 days\n",
      "2      4 days\n",
      "3      7 days\n",
      "4      7 days\n",
      "        ...  \n",
      "9989   2 days\n",
      "9990   5 days\n",
      "9991   5 days\n",
      "9992   5 days\n",
      "9993   5 days\n",
      "Name: delivery_time_days, Length: 9994, dtype: timedelta64[ns]\n"
     ]
    }
   ],
   "source": [
    "#Sifarişlərin çatdırılma müddəti\n",
    "df['delivery_time_days']=df['ship_date']-df['order_date']\n",
    "print(df['delivery_time_days'])\n"
   ]
  },
  {
   "cell_type": "code",
   "execution_count": 31,
   "id": "3ee29fa7-8e46-45ce-9d87-ed8044ca3fe7",
   "metadata": {},
   "outputs": [
    {
     "name": "stdout",
     "output_type": "stream",
     "text": [
      "Same Day: 0 gün\n",
      "First Class: 2 gün\n",
      "Second Class: 3 gün\n",
      "Standard Class: 5 gün\n"
     ]
    }
   ],
   "source": [
    "#Ship Mode görə ortalama çatdırılma vaxtı\n",
    "delivery_times = df.groupby('Ship Mode')['delivery_time_days'].mean().sort_values()\n",
    "for ship_mode, avg_time in delivery_times.items():\n",
    "    print(f\"{ship_mode}: {avg_time.days} gün\")"
   ]
  },
  {
   "cell_type": "code",
   "execution_count": 32,
   "id": "56601741-e57d-439c-ab88-54968c98d6cc",
   "metadata": {},
   "outputs": [
    {
     "name": "stdout",
     "output_type": "stream",
     "text": [
      "Staples: 215 ədəd\n",
      "Staple envelope: 170 ədəd\n",
      "Easy-staple paper: 150 ədəd\n",
      "Staples in misc. colors: 86 ədəd\n",
      "KI Adjustable-Height Table: 74 ədəd\n",
      "Storex Dura Pro Binders: 71 ədəd\n",
      "Avery Non-Stick Binders: 71 ədəd\n",
      "GBC Premium Transparent Covers with Diagonal Lined Pattern: 67 ədəd\n",
      "Situations Contoured Folding Chairs, 4/Set: 64 ədəd\n",
      "Staple-based wall hangings: 62 ədəd\n"
     ]
    }
   ],
   "source": [
    "#Ən çox satılan 10 məhsul\n",
    "top_sales_10=df.groupby('Product Name')['Quantity'].sum().sort_values(ascending=False).head(10)\n",
    "for product,quantity in top_sales_10.items():\n",
    "    print(f\"{product}: {quantity} ədəd\")"
   ]
  },
  {
   "cell_type": "code",
   "execution_count": 33,
   "id": "bcbdfc15-9847-4c3e-8252-a5f78868992c",
   "metadata": {},
   "outputs": [
    {
     "name": "stdout",
     "output_type": "stream",
     "text": [
      "Binders: 5974 ədəd\n",
      "Paper: 5178 ədəd\n",
      "Furnishings: 3563 ədəd\n",
      "Phones: 3289 ədəd\n",
      "Storage: 3158 ədəd\n",
      "Art: 3000 ədəd\n",
      "Accessories: 2976 ədəd\n",
      "Chairs: 2356 ədəd\n",
      "Appliances: 1729 ədəd\n",
      "Labels: 1400 ədəd\n"
     ]
    }
   ],
   "source": [
    "#Sub-kateqoriyalara görə ən çox satılan 10 məhsul\n",
    "top_subcategory_10=df.groupby('Sub-Category')['Quantity'].sum().sort_values(ascending=False).head(10)\n",
    "for subcategory,quantity in top_subcategory_10.items():\n",
    "  print(f\"{subcategory}: {quantity} ədəd\")\n"
   ]
  },
  {
   "cell_type": "code",
   "execution_count": 34,
   "id": "aae07f39-bea1-4a07-8348-9f5f4354b355",
   "metadata": {},
   "outputs": [
    {
     "name": "stdout",
     "output_type": "stream",
     "text": [
      "Office Supplies: 22906 ədəd\n",
      "Furniture: 8028 ədəd\n",
      "Technology: 6939 ədəd\n"
     ]
    }
   ],
   "source": [
    "#Kateqoriyalara görə ən çox satılan 10 məhsul\n",
    "category_10=df.groupby('Category')['Quantity'].sum().sort_values(ascending=False).head(10)\n",
    "for category,quantity in category_10.items():\n",
    "  print(f\"{category}: {quantity} ədəd\")"
   ]
  },
  {
   "cell_type": "code",
   "execution_count": 35,
   "id": "f964cbd3-013b-4ddd-9c84-6f1d97f8f672",
   "metadata": {},
   "outputs": [
    {
     "name": "stdout",
     "output_type": "stream",
     "text": [
      "Technology: $836,154.03 \n",
      "Furniture: $741,999.80 \n",
      "Office Supplies: $719,047.03 \n"
     ]
    }
   ],
   "source": [
    "#Kateqoriyalara görə satışlar\n",
    "category_10=df.groupby('Category')['Sales'].sum().sort_values(ascending=False)\n",
    "for category,sales in category_10.items():\n",
    "  print(f\"{category}: ${sales:,.2f} \")"
   ]
  },
  {
   "cell_type": "code",
   "execution_count": 36,
   "id": "5d7bbde3-c0cc-459f-bb4c-67ba7fba2834",
   "metadata": {},
   "outputs": [
    {
     "name": "stdout",
     "output_type": "stream",
     "text": [
      "Technology: $145,454.95 \n",
      "Office Supplies: $122,490.80 \n",
      "Furniture: $18,451.27 \n"
     ]
    }
   ],
   "source": [
    "#Kateqoriyalara görə gəlirlər\n",
    "category_10=df.groupby('Category')['Profit'].sum().sort_values(ascending=False)\n",
    "for category,profit in category_10.items():\n",
    "  print(f\"{category}: ${profit:,.2f} \")"
   ]
  },
  {
   "cell_type": "code",
   "execution_count": 37,
   "id": "f4343418-acba-4528-8576-5fd9e2d6122b",
   "metadata": {},
   "outputs": [
    {
     "name": "stdout",
     "output_type": "stream",
     "text": [
      "Canon imageCLASS 2200 Advanced Copier: $25,199.93\n",
      "Fellowes PB500 Electric Punch Plastic Comb Binding Machine with Manual Bind: $7,753.04\n",
      "Hewlett Packard LaserJet 3310 Copier: $6,983.88\n",
      "Canon PC1060 Personal Laser Copier: $4,570.93\n",
      "HP Designjet T520 Inkjet Large Format Printer - 24\" Color: $4,094.98\n",
      "Ativa V4110MDD Micro-Cut Shredder: $3,772.95\n",
      "3D Systems Cube Printer, 2nd Generation, Magenta: $3,717.97\n",
      "Plantronics Savi W720 Multi-Device Wireless Headset System: $3,696.28\n",
      "Ibico EPK-21 Electric Binding System: $3,345.28\n",
      "Zebra ZM400 Thermal Label Printer: $3,343.54\n"
     ]
    }
   ],
   "source": [
    "#Ən çox gəlir gətirən 10 məhsul\n",
    "top_profitable_10=df.groupby('Product Name')['Profit'].sum().sort_values(ascending=False).head(10)\n",
    "for product, profit in top_profitable_10.items():\n",
    "    print(f\"{product}: ${profit:,.2f}\")"
   ]
  },
  {
   "cell_type": "code",
   "execution_count": 38,
   "id": "89881e6d-d0fc-4999-bb11-20c4b7a11c75",
   "metadata": {},
   "outputs": [
    {
     "name": "stdout",
     "output_type": "stream",
     "text": [
      "Eureka Disposable Bags for Sanitaire Vibra Groomer I Upright Vac: Ortalma 80.00 % endirim:\n",
      "GBC Plasticlear Binding Covers: Ortalma 72.86 % endirim:\n",
      "GBC VeloBinder Electric Binding Machine: Ortalma 72.50 % endirim:\n",
      "Epson Perfection V600 Photo Scanner: Ortalma 70.00 % endirim:\n",
      "Lexmark MarkNet N8150 Wireless Print Server: Ortalma 70.00 % endirim:\n",
      "Zebra GK420t Direct Thermal/Thermal Transfer Printer: Ortalma 70.00 % endirim:\n",
      "Hewlett-Packard Deskjet F4180 All-in-One Color Ink-jet - Printer / copier / scanner: Ortalma 70.00 % endirim:\n",
      "Bush Westfield Collection Bookcases, Dark Cherry Finish, Fully Assembled: Ortalma 70.00 % endirim:\n",
      "Cisco 8961 IP Phone Charcoal: Ortalma 70.00 % endirim:\n",
      "Brother MFC-9340CDW LED All-In-One Printer, Copier Scanner: Ortalma 70.00 % endirim:\n"
     ]
    }
   ],
   "source": [
    "#Ən çox ortalama endirim edilən 10 məhsul\n",
    "top_discounted_10=df.groupby('Product Name')['Discount'].mean().sort_values(ascending=False).head(10)\n",
    "for product,discount in top_discounted_10.items():\n",
    "  print(f\"{product}: Ortalma {discount*100:,.2f} % endirim:\")"
   ]
  },
  {
   "cell_type": "code",
   "execution_count": 39,
   "id": "1ba7eee1-4540-4857-a0af-e450fba114de",
   "metadata": {},
   "outputs": [
    {
     "name": "stdout",
     "output_type": "stream",
     "text": [
      "Furniture: Ortalma 17.39 % endirim:\n",
      "Office Supplies: Ortalma 15.73 % endirim:\n",
      "Technology: Ortalma 13.23 % endirim:\n"
     ]
    }
   ],
   "source": [
    "#Kateqoriyalara görə ortalama endirimlər \n",
    "discounted_category=df.groupby('Category')['Discount'].mean().sort_values(ascending=False)\n",
    "for product,discount in discounted_category.items():\n",
    "  print(f\"{product}: Ortalma {discount*100:,.2f} % endirim:\")"
   ]
  },
  {
   "cell_type": "markdown",
   "id": "6ad3370b-0b34-4db4-8bdc-740da04f31d1",
   "metadata": {},
   "source": [
    "# Əsas Nəticələr (Key Insights)\n",
    "1)Texnologiya kateqoriyası ən yüksək gəlir gətirən kateqoriyadır.\n",
    "Satışların həcmi nisbətən yüksək olmaqla yanaşı, bu kateqoriyada gəlirlilik də ən yüksək səviyyədədir. Bu, həm qiymət strategiyasının, həm də məhsulun bazarda yüksək dəyərə   sahib olduğunu göstərir.\n",
    "\n",
    "2)\"South\" bölgəsi satış və gəlir baxımından ən zəif bölgədir.\n",
    "Digər bölgələrlə müqayisədə bu bölgədə həm satışların sayı azdır, həm də gəlirlik səviyyəsi aşağıdır. Bu, həmin bölgədə bazar payının zəif olması və ya satış strategiyasının uğursuz olduğunu göstərə bilər.\n",
    "\n",
    "3)Endirimlər mənfəətə mənfi təsir edir.\n",
    "Analiz göstərir ki, endirim faizi artdıqca məhsullardan əldə olunan mənfəət azalır. Bəzi hallarda isə zərər müşahidə olunur. Bu da onu göstərir ki, endirimlər düzgün hədəflənməyib və mənfəətə zərər verə bilər.\n",
    "\n",
    "4)\"Furniture\" kateqoriyası satış baxımından aktiv olsa da, mənfəət aşağıdır.\n",
    "Satışların sayı yüksək olsa da, məhsulların mənfəət marjası azdır və tez-tez endirim olunur. Bu da gəlirə mənfi təsir edir."
   ]
  },
  {
   "cell_type": "markdown",
   "id": "53b864f1-ad69-4c19-a8ca-5c315208204b",
   "metadata": {},
   "source": [
    "# Tövsiyələr (Yenilənmiş)\n",
    "1)Texnologiya sahəsinə daha çox diqqət yetirilməlidir.\n",
    "Əlavə məhsullar, reklam kampaniyaları və stok idarəçiliyi vasitəsilə bu sahədə daha çox gəlir əldə oluna bilər.\n",
    "\n",
    "2)South bölgəsində bazar genişləndirilməlidir.\n",
    "Lokal kampaniyalar, əməkdaşlıqlar və müştəri sadiqliyi proqramları faydalı ola bilər.\n",
    "\n",
    "3)Endirim siyasəti optimallaşdırılmalıdır.\n",
    "Yalnız hədəfli və data əsaslı endirimlər tətbiq edilməlidir. Endirim strategiyası gəlirliliyə uyğun qurulmalıdır.\n",
    "\n",
    "4)\"Furniture\" kateqoriyası nəzərdən keçirilməlidir.\n",
    "Bu kateqoriyada daha az mənfəət gətirən məhsullar ya paketləşdirilməli, ya da qiymət strategiyası yenilənməlidir."
   ]
  },
  {
   "cell_type": "code",
   "execution_count": null,
   "id": "8bf3698c-e843-4058-86d3-60dddd978dc0",
   "metadata": {},
   "outputs": [],
   "source": []
  }
 ],
 "metadata": {
  "kernelspec": {
   "display_name": "Python [conda env:base] *",
   "language": "python",
   "name": "conda-base-py"
  },
  "language_info": {
   "codemirror_mode": {
    "name": "ipython",
    "version": 3
   },
   "file_extension": ".py",
   "mimetype": "text/x-python",
   "name": "python",
   "nbconvert_exporter": "python",
   "pygments_lexer": "ipython3",
   "version": "3.13.5"
  }
 },
 "nbformat": 4,
 "nbformat_minor": 5
}
